{
 "cells": [
  {
   "cell_type": "markdown",
   "source": [
    "# Бортников Павел Павлович 20215"
   ],
   "metadata": {
    "collapsed": false
   }
  },
  {
   "cell_type": "code",
   "execution_count": 127,
   "metadata": {
    "collapsed": true
   },
   "outputs": [],
   "source": [
    "import torch\n",
    "import torchvision\n",
    "import torchvision.transforms as transforms\n",
    "import torch.nn as nn\n",
    "import torch.nn.functional as F\n",
    "import torch.optim as optim\n",
    "\n",
    "import matplotlib.pyplot as plt\n",
    "import numpy as np\n",
    "import seaborn as sns\n",
    "import pandas as pd\n",
    "import sklearn as sk"
   ]
  },
  {
   "cell_type": "markdown",
   "source": [
    "Выгружаем cifar"
   ],
   "metadata": {
    "collapsed": false
   }
  },
  {
   "cell_type": "code",
   "execution_count": 128,
   "outputs": [
    {
     "name": "stdout",
     "output_type": "stream",
     "text": [
      "Files already downloaded and verified\n",
      "Files already downloaded and verified\n"
     ]
    },
    {
     "data": {
      "text/plain": "50000"
     },
     "execution_count": 128,
     "metadata": {},
     "output_type": "execute_result"
    }
   ],
   "source": [
    "transform = transforms.Compose(\n",
    "    [transforms.ToTensor(),\n",
    "     transforms.Normalize((0.5, 0.5, 0.5), (0.5, 0.5, 0.5))])\n",
    "\n",
    "batch_size = 4\n",
    "\n",
    "trainset = torchvision.datasets.CIFAR10(root='./data', train=True,\n",
    "                                        download=True, transform=transform)\n",
    "trainloader = torch.utils.data.DataLoader(trainset, batch_size=batch_size,\n",
    "                                          shuffle=True, num_workers=2)\n",
    "\n",
    "testset = torchvision.datasets.CIFAR10(root='./data', train=False,\n",
    "                                       download=True, transform=transform)\n",
    "testloader = torch.utils.data.DataLoader(testset, batch_size=batch_size,\n",
    "                                         shuffle=False, num_workers=2)\n",
    "\n",
    "classes = ('plane', 'car', 'bird', 'cat',\n",
    "           'deer', 'dog', 'frog', 'horse', 'ship', 'truck')"
   ],
   "metadata": {
    "collapsed": false
   }
  },
  {
   "cell_type": "code",
   "execution_count": 129,
   "outputs": [
    {
     "name": "stdout",
     "output_type": "stream",
     "text": [
      "cuda:0\n"
     ]
    }
   ],
   "source": [
    "device = torch.device('cuda:0' if torch.cuda.is_available() else 'cpu')\n",
    "\n",
    "# Assuming that we are on a CUDA machine, this should print a CUDA device:\n",
    "\n",
    "print(device)"
   ],
   "metadata": {
    "collapsed": false
   }
  },
  {
   "cell_type": "code",
   "execution_count": 130,
   "outputs": [
    {
     "data": {
      "text/plain": "<Figure size 640x480 with 1 Axes>",
      "image/png": "[encoded data removed]"
     },
     "metadata": {},
     "output_type": "display_data"
    },
    {
     "name": "stdout",
     "output_type": "stream",
     "text": [
      "frog  deer  horse frog \n"
     ]
    }
   ],
   "source": [
    "\n",
    "# functions to show an image\n",
    "\n",
    "\n",
    "def imshow(img):\n",
    "    img = img / 2 + 0.5     # unnormalize\n",
    "    npimg = img.numpy()\n",
    "    plt.imshow(np.transpose(npimg, (1, 2, 0)))\n",
    "    plt.show()\n",
    "\n",
    "\n",
    "# get some random training images\n",
    "dataiter = iter(trainloader)\n",
    "images, labels = next(dataiter)\n",
    "\n",
    "# show images\n",
    "imshow(torchvision.utils.make_grid(images))\n",
    "# print labels\n",
    "print(' '.join(f'{classes[labels[j]]:5s}' for j in range(batch_size)))"
   ],
   "metadata": {
    "collapsed": false
   }
  },
  {
   "cell_type": "markdown",
   "source": [
    " Дальше будет 2 секции, которые я пытался запускать долго и мучительно - из примера с семинара и из официального примера. То, что раскоменчено - хотя бы запускается"
   ],
   "metadata": {
    "collapsed": false
   }
  },
  {
   "cell_type": "code",
   "execution_count": 131,
   "outputs": [],
   "source": [
    "# Пример нейронной сети с параметризуемым количеством и размером слоев,\n",
    "# а также функцией активации\n",
    "# class NeuralNetwork(nn.Module):\n",
    "#     def __init__(self,\n",
    "#                  input_size,\n",
    "#                  num_layers=1,\n",
    "#                  layer_size=100,\n",
    "#                  activation=F.relu):\n",
    "#         super().__init__()\n",
    "#\n",
    "#         # Инициализирируем слои\n",
    "#         self.input_layer = nn.Linear(input_size, layer_size)\n",
    "#         self.layers = []\n",
    "#         for _ in range(num_layers - 1):\n",
    "#             self.layers.append(nn.Linear(layer_size, layer_size))\n",
    "#\n",
    "#         # ModuleList нужен для того, чтобы to() применялся к модели корректно\n",
    "#         self.layers = nn.ModuleList(self.layers)\n",
    "#         self.output_layer = nn.Linear(layer_size, 1)\n",
    "#\n",
    "#         # Инициализируем функцию активации\n",
    "#         self.activation = activation\n",
    "#\n",
    "#     def forward(self, input):\n",
    "#         output = self.activation(self.input_layer(input))\n",
    "#         for layer in self.layers:\n",
    "#             output = self.activation(layer(output))\n",
    "#         output = self.output_layer(output)\n",
    "#\n",
    "#         return output"
   ],
   "metadata": {
    "collapsed": false
   }
  },
  {
   "cell_type": "markdown",
   "source": [
    "Общая функция"
   ],
   "metadata": {
    "collapsed": false
   }
  },
  {
   "cell_type": "code",
   "execution_count": 132,
   "outputs": [],
   "source": [
    "# Параметризуемая функция - для удобства подбора параметров\n",
    "# def train_model(model,\n",
    "#                 train_dataloader,\n",
    "#                 val_dataloader,\n",
    "#                 device,\n",
    "#                 num_epochs=10,\n",
    "#                 lr=10e-5,\n",
    "#                 show=True):\n",
    "#     # Указываем модели, какие параметры сети оптимизировать (обучать)\n",
    "#     # По факту - все, которые имеют градиенты\n",
    "#     parameters = filter(lambda p: p.requires_grad, model.parameters())\n",
    "#\n",
    "#     # Задаем оптимизатор (можно параметризовать)\n",
    "#     optimizer = optim.Adam(parameters, lr=lr)\n",
    "#\n",
    "#     # Задаем функцию потерь (в вашей задаче какую нужно использовать?)\n",
    "#     loss_function = nn.BCEWithLogitsLoss()\n",
    "#\n",
    "#     train_losses = []\n",
    "#     train_roc_aucs = []\n",
    "#     val_losses = []\n",
    "#     val_roc_aucs = []\n",
    "#\n",
    "#     # Итерируемся по эпохам\n",
    "#     for e in range(num_epochs):\n",
    "#         # Включаем режим обучения - разрешаем менять веса модели\n",
    "#         model.train()\n",
    "#\n",
    "#         epoch_train_loss = 0\n",
    "#         epoch_train_roc_auc = 0\n",
    "#\n",
    "#         # Проходимся по всему датасету\n",
    "#         for X_batch, y_batch in train_dataloader:\n",
    "#             # Помещаем тензоры на девайс (gpu или cpu в зависимости от инициализации device)\n",
    "#             X_batch, y_batch = X_batch.to(device), y_batch.to(device)\n",
    "#\n",
    "#             # Обнуляем градиенты на каждом шаге обучения\n",
    "#             optimizer.zero_grad()\n",
    "#\n",
    "#             # Делаем прямое распространение\n",
    "#             y_pred = model(X_batch)\n",
    "#\n",
    "#             # Считаем значение функции потерь\n",
    "#             loss = loss_function(y_pred, y_batch.unsqueeze(1))\n",
    "#\n",
    "#             # Считаем значение метрики (вы можете использовать другую)\n",
    "#             roc_auc = sk.metrics.roc_auc_score(y_batch.unsqueeze(1).ravel().cpu(),\n",
    "#                                     torch.sigmoid(y_pred).ravel().cpu().detach().numpy())\n",
    "#\n",
    "#             # Делаем обратное распространение ошибки (обновляем веса модели)\n",
    "#             loss.backward()\n",
    "#             # Обновляем состояния оптимизатора\n",
    "#             optimizer.step()\n",
    "#\n",
    "#             # Накапливаем значение функции потерь и метрики\n",
    "#             epoch_train_loss += loss.item()\n",
    "#             epoch_train_roc_auc += roc_auc.item()\n",
    "#\n",
    "#         # Включаем режим оценки - градиенты не накалпиваются при прямом распространении\n",
    "#         model.eval()\n",
    "#\n",
    "#         epoch_val_loss = 0\n",
    "#         epoch_val_roc_auc = 0\n",
    "#\n",
    "#         # Итерируемся по валидационной выборке\n",
    "#         for X_batch, y_batch in val_dataloader:\n",
    "#             X_batch, y_batch = X_batch.to(device), y_batch.to(device)\n",
    "#\n",
    "#             y_pred = model(X_batch)\n",
    "#\n",
    "#             loss = loss_function(y_pred, y_batch.unsqueeze(1))\n",
    "#             roc_auc = sk.metrics.roc_auc_score(y_batch.unsqueeze(1).ravel().cpu(),\n",
    "#                                     torch.sigmoid(y_pred).ravel().cpu().detach().numpy())\n",
    "#\n",
    "#             epoch_val_loss += loss.item()\n",
    "#             epoch_val_roc_auc += roc_auc.item()\n",
    "#\n",
    "#         # Считаем средние показатели за эпоху\n",
    "#         train_losses.append(epoch_train_loss / len(train_dataloader))\n",
    "#         train_roc_aucs.append(epoch_train_roc_auc / len(train_dataloader))\n",
    "#         val_losses.append(epoch_val_loss / len(val_dataloader))\n",
    "#         val_roc_aucs.append(epoch_val_roc_auc / len(val_dataloader))\n",
    "#\n",
    "#     # Строим график по всем эпохам\n",
    "#     if show:\n",
    "#         fig, (ax1, ax2) = plt.subplots(1, 2, figsize=(10, 3))\n",
    "#         x = range(len(train_losses))\n",
    "#         ax1.plot(x, train_losses, label='Train')\n",
    "#         ax1.plot(x, val_losses, label='Val')\n",
    "#         ax1.set_title('Loss')\n",
    "#         ax1.set_xlabel('Epoch')\n",
    "#         ax1.set_ylabel('Loss')\n",
    "#         ax1.legend()\n",
    "#         ax2.plot(x, train_roc_aucs, label='Train')\n",
    "#         ax2.plot(x, val_roc_aucs, label='Val')\n",
    "#         ax2.set_title('Metric (ROC AUC)')\n",
    "#         ax2.set_xlabel('Epoch')\n",
    "#         ax2.set_ylabel('ROC AUC')\n",
    "#         ax2.legend()\n",
    "#         plt.show()\n",
    "#\n",
    "#     # Возвращаем лучшее значение метрики на валидации\n",
    "#     # Можно возвращать модель или все результаты, или ничего не возвращать\n",
    "#     return np.array(val_roc_aucs).max()\n"
   ],
   "metadata": {
    "collapsed": false
   }
  },
  {
   "cell_type": "code",
   "execution_count": 133,
   "outputs": [],
   "source": [
    "# def test_layer_size(layer_size, num_layers=1, activation=F.relu, num_epochs=10, show=True):\n",
    "#     if show:\n",
    "#         print(f\"Нейронов в скрытом слое: {layer_size}, функция активации: {str(activation)}\")\n",
    "#\n",
    "#     model = NeuralNetwork(32, num_layers=num_layers, layer_size=layer_size, activation=activation)\n",
    "#     # Перемещаем модель в видеопамять, если используется GPU\n",
    "#     model.to(device)\n",
    "#     best_metric = train_model(model, trainloader, testloader, device, num_epochs=num_epochs, show=show)\n",
    "#\n",
    "#     if show:\n",
    "#         print(f\"Лучший результат на валидации: {best_metric}\")\n",
    "#\n",
    "#     return best_metric"
   ],
   "metadata": {
    "collapsed": false
   }
  },
  {
   "cell_type": "code",
   "execution_count": 134,
   "outputs": [],
   "source": [
    "# test_layer_size(3072, num_epochs=30);"
   ],
   "metadata": {
    "collapsed": false
   }
  },
  {
   "cell_type": "markdown",
   "source": [
    "---\n",
    "## Дальше офф пример\n",
    "---"
   ],
   "metadata": {
    "collapsed": false
   }
  },
  {
   "cell_type": "code",
   "execution_count": 135,
   "outputs": [
    {
     "data": {
      "text/plain": "Net(\n  (conv1): Conv2d(3, 6, kernel_size=(5, 5), stride=(1, 1))\n  (pool): MaxPool2d(kernel_size=2, stride=2, padding=0, dilation=1, ceil_mode=False)\n  (conv2): Conv2d(6, 16, kernel_size=(5, 5), stride=(1, 1))\n  (fc1): Linear(in_features=400, out_features=120, bias=True)\n  (fc2): Linear(in_features=120, out_features=84, bias=True)\n  (fc3): Linear(in_features=84, out_features=10, bias=True)\n)"
     },
     "execution_count": 135,
     "metadata": {},
     "output_type": "execute_result"
    }
   ],
   "source": [
    "class Net(nn.Module):\n",
    "    def __init__(self):\n",
    "        super().__init__()\n",
    "        self.conv1 = nn.Conv2d(3, 6, 5)\n",
    "        self.pool = nn.MaxPool2d(2, 2)\n",
    "        self.conv2 = nn.Conv2d(6, 16, 5)\n",
    "        self.fc1 = nn.Linear(16 * 5 * 5, 120)\n",
    "        self.fc2 = nn.Linear(120, 84)\n",
    "        self.fc3 = nn.Linear(84, 10)\n",
    "\n",
    "    def forward(self, x):\n",
    "        x = self.pool(F.relu(self.conv1(x)))\n",
    "        x = self.pool(F.relu(self.conv2(x)))\n",
    "        x = torch.flatten(x, 1) # flatten all dimensions except batch\n",
    "        x = F.relu(self.fc1(x))\n",
    "        x = F.relu(self.fc2(x))\n",
    "        x = self.fc3(x)\n",
    "        return x\n",
    "\n",
    "\n",
    "net = Net()\n",
    "net.to(device)"
   ],
   "metadata": {
    "collapsed": false
   }
  },
  {
   "cell_type": "code",
   "execution_count": 136,
   "outputs": [],
   "source": [
    "criterion = nn.CrossEntropyLoss()\n",
    "optimizer = optim.SGD(net.parameters(), lr=0.001, momentum=0.9)"
   ],
   "metadata": {
    "collapsed": false
   }
  },
  {
   "cell_type": "code",
   "execution_count": 137,
   "outputs": [
    {
     "name": "stdout",
     "output_type": "stream",
     "text": [
      "[1,  2000] loss: 2.223\n",
      "[1,  4000] loss: 1.856\n",
      "[1,  6000] loss: 1.669\n",
      "[1,  8000] loss: 1.589\n",
      "[1, 10000] loss: 1.523\n",
      "[1, 12000] loss: 1.434\n",
      "[2,  2000] loss: 1.396\n",
      "[2,  4000] loss: 1.372\n",
      "[2,  6000] loss: 1.337\n",
      "[2,  8000] loss: 1.314\n",
      "[2, 10000] loss: 1.318\n",
      "[2, 12000] loss: 1.265\n",
      "[3,  2000] loss: 1.204\n",
      "[3,  4000] loss: 1.211\n",
      "[3,  6000] loss: 1.208\n",
      "[3,  8000] loss: 1.191\n",
      "[3, 10000] loss: 1.158\n",
      "[3, 12000] loss: 1.173\n",
      "[4,  2000] loss: 1.095\n",
      "[4,  4000] loss: 1.094\n",
      "[4,  6000] loss: 1.099\n",
      "[4,  8000] loss: 1.101\n",
      "[4, 10000] loss: 1.106\n",
      "[4, 12000] loss: 1.075\n",
      "[5,  2000] loss: 1.019\n",
      "[5,  4000] loss: 1.007\n",
      "[5,  6000] loss: 1.022\n",
      "[5,  8000] loss: 1.027\n",
      "[5, 10000] loss: 1.038\n",
      "[5, 12000] loss: 1.029\n",
      "[6,  2000] loss: 0.943\n",
      "[6,  4000] loss: 0.947\n",
      "[6,  6000] loss: 0.998\n",
      "[6,  8000] loss: 0.958\n",
      "[6, 10000] loss: 0.981\n",
      "[6, 12000] loss: 0.979\n",
      "[7,  2000] loss: 0.868\n",
      "[7,  4000] loss: 0.919\n",
      "[7,  6000] loss: 0.914\n",
      "[7,  8000] loss: 0.957\n",
      "[7, 10000] loss: 0.953\n",
      "[7, 12000] loss: 0.942\n",
      "[8,  2000] loss: 0.842\n",
      "[8,  4000] loss: 0.866\n",
      "[8,  6000] loss: 0.870\n",
      "[8,  8000] loss: 0.889\n",
      "[8, 10000] loss: 0.926\n",
      "[8, 12000] loss: 0.914\n",
      "[9,  2000] loss: 0.796\n",
      "[9,  4000] loss: 0.822\n",
      "[9,  6000] loss: 0.856\n",
      "[9,  8000] loss: 0.883\n",
      "[9, 10000] loss: 0.879\n",
      "[9, 12000] loss: 0.855\n",
      "[10,  2000] loss: 0.758\n",
      "[10,  4000] loss: 0.809\n",
      "[10,  6000] loss: 0.824\n",
      "[10,  8000] loss: 0.828\n",
      "[10, 10000] loss: 0.873\n",
      "[10, 12000] loss: 0.855\n",
      "Finished Training\n"
     ]
    }
   ],
   "source": [
    "for epoch in range(10):  # loop over the dataset multiple times\n",
    "\n",
    "    running_loss = 0.0\n",
    "    for i, data in enumerate(trainloader, 0):\n",
    "        # get the inputs; data is a list of [inputs, labels]\n",
    "        inputs, labels = data\n",
    "        inputs, labels = inputs.to(device), labels.to(device)\n",
    "\n",
    "        # zero the parameter gradients\n",
    "        optimizer.zero_grad()\n",
    "\n",
    "        # forward + backward + optimize\n",
    "        outputs = net(inputs)\n",
    "        loss = criterion(outputs, labels)\n",
    "        loss.backward()\n",
    "        optimizer.step()\n",
    "\n",
    "        # print statistics\n",
    "        running_loss += loss.item()\n",
    "        if i % 2000 == 1999:    # print every 2000 mini-batches\n",
    "            print(f'[{epoch + 1}, {i + 1:5d}] loss: {running_loss / 2000:.3f}')\n",
    "            running_loss = 0.0\n",
    "\n",
    "print('Finished Training')"
   ],
   "metadata": {
    "collapsed": false
   }
  },
  {
   "cell_type": "code",
   "execution_count": 138,
   "outputs": [],
   "source": [
    "PATH = './cifar_net.pth'\n",
    "torch.save(net.state_dict(), PATH)"
   ],
   "metadata": {
    "collapsed": false
   }
  },
  {
   "cell_type": "code",
   "execution_count": 139,
   "outputs": [
    {
     "data": {
      "text/plain": "<Figure size 640x480 with 1 Axes>",
      "image/png": "[encoded data removed]"
     },
     "metadata": {},
     "output_type": "display_data"
    },
    {
     "name": "stdout",
     "output_type": "stream",
     "text": [
      "GroundTruth:  cat   ship  ship  plane\n"
     ]
    }
   ],
   "source": [
    "dataiter = iter(testloader)\n",
    "images, labels = next(dataiter)\n",
    "# images, labels = images.to(device), labels.to(device)\n",
    "\n",
    "# print images\n",
    "imshow(torchvision.utils.make_grid(images))\n",
    "print('GroundTruth: ', ' '.join(f'{classes[labels[j]]:5s}' for j in range(4)))"
   ],
   "metadata": {
    "collapsed": false
   }
  },
  {
   "cell_type": "code",
   "execution_count": 140,
   "outputs": [
    {
     "data": {
      "text/plain": "<All keys matched successfully>"
     },
     "execution_count": 140,
     "metadata": {},
     "output_type": "execute_result"
    }
   ],
   "source": [
    "net = Net()\n",
    "net.load_state_dict(torch.load(PATH))\n",
    "# net.to(device)"
   ],
   "metadata": {
    "collapsed": false
   }
  },
  {
   "cell_type": "code",
   "execution_count": 141,
   "outputs": [],
   "source": [
    "outputs = net(images)"
   ],
   "metadata": {
    "collapsed": false
   }
  },
  {
   "cell_type": "code",
   "execution_count": 142,
   "outputs": [
    {
     "name": "stdout",
     "output_type": "stream",
     "text": [
      "Predicted:  cat   car   ship  ship \n"
     ]
    }
   ],
   "source": [
    "_, predicted = torch.max(outputs, 1)\n",
    "\n",
    "print('Predicted: ', ' '.join(f'{classes[predicted[j]]:5s}'\n",
    "                              for j in range(4)))"
   ],
   "metadata": {
    "collapsed": false
   }
  },
  {
   "cell_type": "code",
   "execution_count": 143,
   "outputs": [
    {
     "name": "stdout",
     "output_type": "stream",
     "text": [
      "Accuracy of the network on the 10000 test images: 63 %\n"
     ]
    }
   ],
   "source": [
    "correct = 0\n",
    "total = 0\n",
    "# since we're not training, we don't need to calculate the gradients for our outputs\n",
    "with torch.no_grad():\n",
    "    for data in testloader:\n",
    "        images, labels = data\n",
    "\n",
    "        # inputs, labels = inputs.to(device), labels.to(device)\n",
    "\n",
    "        # calculate outputs by running images through the network\n",
    "        outputs = net(images)\n",
    "        # the class with the highest energy is what we choose as prediction\n",
    "        _, predicted = torch.max(outputs.data, 1)\n",
    "        total += labels.size(0)\n",
    "        correct += (predicted == labels).sum().item()\n",
    "\n",
    "print(f'Accuracy of the network on the 10000 test images: {100 * correct // total} %')"
   ],
   "metadata": {
    "collapsed": false
   }
  },
  {
   "cell_type": "code",
   "execution_count": 144,
   "outputs": [
    {
     "name": "stdout",
     "output_type": "stream",
     "text": [
      "Accuracy for class: plane is 68.8 %\n",
      "Accuracy for class: car   is 82.5 %\n",
      "Accuracy for class: bird  is 51.0 %\n",
      "Accuracy for class: cat   is 36.6 %\n",
      "Accuracy for class: deer  is 52.2 %\n",
      "Accuracy for class: dog   is 62.5 %\n",
      "Accuracy for class: frog  is 71.0 %\n",
      "Accuracy for class: horse is 66.4 %\n",
      "Accuracy for class: ship  is 73.6 %\n",
      "Accuracy for class: truck is 68.2 %\n"
     ]
    }
   ],
   "source": [
    "# prepare to count predictions for each class\n",
    "correct_pred = {classname: 0 for classname in classes}\n",
    "total_pred = {classname: 0 for classname in classes}\n",
    "\n",
    "# again no gradients needed\n",
    "with torch.no_grad():\n",
    "    for data in testloader:\n",
    "        images, labels = data\n",
    "\n",
    "        # inputs, labels = inputs.to(device), labels.to(device)\n",
    "\n",
    "        outputs = net(images)\n",
    "        _, predictions = torch.max(outputs, 1)\n",
    "        # collect the correct predictions for each class\n",
    "        for label, prediction in zip(labels, predictions):\n",
    "            if label == prediction:\n",
    "                correct_pred[classes[label]] += 1\n",
    "            total_pred[classes[label]] += 1\n",
    "\n",
    "\n",
    "# print accuracy for each class\n",
    "for classname, correct_count in correct_pred.items():\n",
    "    accuracy = 100 * float(correct_count) / total_pred[classname]\n",
    "    print(f'Accuracy for class: {classname:5s} is {accuracy:.1f} %')"
   ],
   "metadata": {
    "collapsed": false
   }
  },
  {
   "cell_type": "code",
   "execution_count": 144,
   "outputs": [],
   "source": [],
   "metadata": {
    "collapsed": false
   }
  }
 ],
 "metadata": {
  "kernelspec": {
   "display_name": "Python 3",
   "language": "python",
   "name": "python3"
  },
  "language_info": {
   "codemirror_mode": {
    "name": "ipython",
    "version": 2
   },
   "file_extension": ".py",
   "mimetype": "text/x-python",
   "name": "python",
   "nbconvert_exporter": "python",
   "pygments_lexer": "ipython2",
   "version": "2.7.6"
  }
 },
 "nbformat": 4,
 "nbformat_minor": 0
}
