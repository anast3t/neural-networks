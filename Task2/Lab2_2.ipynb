{
 "cells": [
  {
   "cell_type": "markdown",
   "source": [
    "# Лаба 2\n",
    "\n",
    "**Дедлайн**: 25 ноября\n",
    "\n",
    "**Задача**: написать определитель тональности текста (сообщениея в Twitter) c помощью fine-tuning-а на датасете RuSentiTweet (https://github.com/sismetanin/rusentitweet)\n",
    "\n",
    "На что обратить внимание:\n",
    "(+)Подготовка данных (очистка, токенизация и упаковка датасета в удобный класс) - у вас в задании другой датасет, соответственно обработка может поменяться. В датасете несколько файлов, скачайте rusentitweet_full.csv и работайте с ним\n",
    "(-)Процедура дообучения. Вам необходимо доработать имеющуюся процедуру:\n",
    "    --(-) Добавить графики качества обучения модели в зависимости от шага (делать валидацию каждые 100 шагов (например), а не раз в эпоху)\n",
    "    --(+) Замерить время обучения\n",
    "    --(-) Добавить больше метрик для отслеживания (изучите по открытым источникам, какие метрики используются для задачи определения тональности и почему)\n",
    "    --(-) Добавить заморозку части слоев (все, кроме слоя классификации, или кроме слоя классификации + 2-3 последних слоев с интентами)\n",
    "    --(-) Подобрать количество эпох, размер батча и заморозку так, чтобы модель давала лучший результат\n",
    "(-)Модель для дообучения (попробуйте как минимум 2 разных модели), искать подходящие модели можно с помощью гугла и https://huggingface.co/\n",
    "(+)Результаты **всех** экспериментов должны быть описаны в отдельной ячейке\n",
    "(+)Inference модели - обученную модель нужно обернуть в удобную функцию для использования, которая по тексту будет возвращать его тональность\n",
    "\n",
    "\n",
    "https://www.youtube.com/watch?v=xI0HHN5XKDo"
   ],
   "metadata": {
    "collapsed": false
   }
  },
  {
   "cell_type": "markdown",
   "source": [
    "## Импорты"
   ],
   "metadata": {
    "collapsed": false
   }
  },
  {
   "cell_type": "code",
   "execution_count": 1,
   "metadata": {
    "collapsed": true
   },
   "outputs": [],
   "source": [
    "import typing, re, torch, os.path, sys, emot, torchmetrics\n",
    "\n",
    "from torch.utils.data.dataset import T_co\n",
    "\n",
    "# костыль, чтоб общий файлик сгрузить\n",
    "if not sys.path.__contains__('..'):\n",
    "    sys.path.insert(0, '..')\n",
    "import helper\n",
    "\n",
    "from num2words import num2words\n",
    "from cleantext import clean\n",
    "from pathlib import Path\n",
    "\n",
    "from torch.utils.data import TensorDataset, DataLoader, Dataset\n",
    "from transformers import BertTokenizer, BertForSequenceClassification\n",
    "from sklearn.model_selection import train_test_split\n",
    "from sklearn.metrics import f1_score\n",
    "\n",
    "import seaborn as sns\n",
    "import pandas as pd\n",
    "import numpy as np\n",
    "import matplotlib.pyplot as plt\n",
    "import tqdm.notebook as tqdm\n",
    "\n",
    "emot_core = emot.core.emot()"
   ]
  },
  {
   "cell_type": "code",
   "execution_count": 16,
   "outputs": [
    {
     "data": {
      "text/plain": "<module 'helper' from 'C:\\\\Users\\\\anast3t\\\\Desktop\\\\all\\\\coding\\\\neural-networks\\\\Task2\\\\..\\\\helper.py'>"
     },
     "execution_count": 16,
     "metadata": {},
     "output_type": "execute_result"
    }
   ],
   "source": [
    "import importlib\n",
    "\n",
    "importlib.reload(helper)"
   ],
   "metadata": {
    "collapsed": false
   }
  },
  {
   "cell_type": "markdown",
   "source": [
    "## Константы"
   ],
   "metadata": {
    "collapsed": false
   }
  },
  {
   "cell_type": "code",
   "execution_count": 3,
   "outputs": [],
   "source": [
    "SEED = 42\n",
    "BATCH_SIZE = 32\n",
    "SPLIT_SIZE = 0.3\n",
    "NUM_WORKERS = 4\n",
    "device = \"cuda\" if torch.cuda.is_available() else \"cpu\""
   ],
   "metadata": {
    "collapsed": false
   }
  },
  {
   "cell_type": "markdown",
   "source": [
    "## Очистка данных"
   ],
   "metadata": {
    "collapsed": false
   }
  },
  {
   "cell_type": "markdown",
   "source": [
    "Разберемся с данными - уберем ненужные колонки, символы и т.д."
   ],
   "metadata": {
    "collapsed": false
   }
  },
  {
   "cell_type": "code",
   "execution_count": 4,
   "outputs": [
    {
     "data": {
      "text/plain": "'на ой какие неожиданные сто результаты'"
     },
     "execution_count": 4,
     "metadata": {},
     "output_type": "execute_result"
    }
   ],
   "source": [
    "# Как всегда - на все случаи жизни есть библиотечки.\n",
    "# Однако зачем-то я решил настолько очисткой заморочиться, что даже эмотиконы вытащил, и вот на это библиотек не было\n",
    "\n",
    "def num2words_with_extract(text: typing.AnyStr) -> typing.AnyStr:\n",
    "    split_text = text.split(' ')\n",
    "    for idx, segment in enumerate(split_text):\n",
    "        if segment.isdigit():\n",
    "            split_text[idx] = num2words(segment, lang='ru')\n",
    "    return \" \".join(split_text)\n",
    "\n",
    "\n",
    "def remove_emoticons(text: typing.AnyStr, emot_core) -> typing.AnyStr:  # TODO: write your own emoticon regexp\n",
    "    res = emot_core.emoticons(text)\n",
    "    for emoticon in res['value']:\n",
    "        # print(emoticon)\n",
    "        regex = '(?:'\n",
    "        for symbol in [*emoticon]:\n",
    "            regex += (symbol if symbol.isalpha() or symbol.isdigit() else '\\\\' + symbol) + '+'\n",
    "        regex += ')'\n",
    "        # print(regex)\n",
    "        compiled = re.compile(regex)\n",
    "        text = compiled.sub(r'', text)\n",
    "    return text\n",
    "\n",
    "\n",
    "def clean_text(text: typing.AnyStr, emot_core=emot_core) -> typing.AnyStr:\n",
    "    text = clean(\n",
    "        text=text,\n",
    "        fix_unicode=False,  # fix various unicode errors\n",
    "        to_ascii=False,  # transliterate to closest ASCII representation\n",
    "        lower=True,  # lowercase text\n",
    "        no_line_breaks=True,  # fully strip line breaks as opposed to only normalizing them\n",
    "        no_urls=True,  # replace all URLs with a special token\n",
    "        no_emails=True,  # replace all email addresses with a special token\n",
    "        no_phone_numbers=True,  # replace all phone numbers with a special token\n",
    "        no_emoji=True,\n",
    "        no_numbers=False,  # replace all numbers with a special token\n",
    "        no_digits=False,  # replace all digits with a special token\n",
    "        no_currency_symbols=False,  # replace all currency symbols with a special token\n",
    "        no_punct=False,  # remove punctuations\n",
    "        normalize_whitespace=True,\n",
    "        replace_with_punct=\"\",  # instead of removing punctuations you may replace them\n",
    "        replace_with_url=\"\",\n",
    "        replace_with_email=\"\",\n",
    "        replace_with_phone_number=\"\",\n",
    "        replace_with_number=\"\",\n",
    "        replace_with_digit=\"\",\n",
    "        replace_with_currency_symbol=\"\",\n",
    "        # lang=\"en\"                       # set to 'de' for German special handling\n",
    "    )\n",
    "    tag_pattern = re.compile(\"@\\S+\")\n",
    "    dot_pattern = re.compile(\"\\.{2,}\")\n",
    "    text = tag_pattern.sub(r'', text)  # убираем теги юзеров\n",
    "    text = dot_pattern.sub(r'', text)  # убираем многоточия (на всякий случай, тк их много)\n",
    "    text = remove_emoticons(text, emot_core)  # убираем эмотиконы типа :) :-(((\n",
    "    text = num2words_with_extract(text)  # преобразуем цифры в текст\n",
    "    return \" \".join(text.split())  # normalize whitespaces\n",
    "\n",
    "\n",
    "# пример отработки\n",
    "clean_text(\n",
    "    \"@varlamov @McFa__ul bortnikov@mail.ru На Ой какие неожиданные ::-( :333 100 .......... результаты 🤭 https://t.co/ZwOHPDKUqq 88005553535\",\n",
    "    emot_core)"
   ],
   "metadata": {
    "collapsed": false
   }
  },
  {
   "cell_type": "code",
   "execution_count": 5,
   "outputs": [
    {
     "name": "stdout",
     "output_type": "stream",
     "text": [
      "Loading existing pickle\n"
     ]
    }
   ],
   "source": [
    "twitter_cut = None\n",
    "csv_path = Path(\"csv\")\n",
    "twitter_full_path = csv_path / \"twitter_full.csv\"\n",
    "twitter_cut_path = csv_path / \"twitter_cut.pickle\"\n",
    "\n",
    "twitter = pd.read_csv(twitter_full_path)\n",
    "\n",
    "if not os.path.exists(twitter_cut_path):\n",
    "    print(\"Clearing initial csv and saving to pickle\")\n",
    "    twitter_cut = twitter.drop([\"id\", \"Unnamed: 0\"], inplace=False, axis=1)  # .rename(columns={\"Unnamed: 0\": \"index\"})\n",
    "    twitter_cut = twitter_cut[twitter_cut[\"label\"] != \"skip\"]\n",
    "    twitter_cut = twitter_cut.reset_index()\n",
    "    twitter_cut.rename(columns={\"index\": \"old_idx\"}, inplace=True)\n",
    "    twitter_cut[\"text_clean\"] = twitter_cut[\"text\"].apply(clean_text)\n",
    "    twitter_cut.to_pickle(twitter_cut_path)\n",
    "else:\n",
    "    print(\"Loading existing pickle\")\n",
    "    twitter_cut = pd.read_pickle(\"./csv/twitter_cut.pickle\")\n"
   ],
   "metadata": {
    "collapsed": false
   }
  },
  {
   "cell_type": "code",
   "execution_count": 6,
   "outputs": [],
   "source": [
    "# twitter.head(10)"
   ],
   "metadata": {
    "collapsed": false
   }
  },
  {
   "cell_type": "code",
   "execution_count": 7,
   "outputs": [
    {
     "data": {
      "text/plain": "    old_idx                                               text     label  \\\n0         1  велл они  всё равно что мусор так что ничего с...  negative   \n1         2  \"трезвая жизнь какая-то такая стрёмная\"\\r\\n(с)...  negative   \n2         3  Ой какие неожиданные результаты 🤭 https://t.co...   neutral   \n3         4  @Shvonder_chief @dimsmirnov175 На заборе тоже ...   neutral   \n4         5      @idkwhht мы тоже мебельная компания уджина😳😳😳   neutral   \n..      ...                                                ...       ...   \n95      110  @snakey_ssnake Делать еще ╰(‵□′)╯ (мне понрави...  positive   \n96      112     @cerealporridge 😭😭😭😭♥️♥️♥️♥️ спасибо 😭♥️♥️♥️♥️    speech   \n97      114  В СевГУ прошел круглый стол по случаю Дня соли...   neutral   \n98      115                           @great_knee Бро,моя тоже   neutral   \n99      116  @GGuchenko @Ares29014619 @arlig23 @Stepan05244...   neutral   \n\n                                           text_clean  \n0   велл они всё равно что мусор так что ничего ст...  \n1   \"трезвая жизнь какая-то такая стрёмная\" (с) ар...  \n2                     ой какие неожиданные результаты  \n3   на заборе тоже написано,а там другое.о сборе д...  \n4                   мы тоже мебельная компания уджина  \n..                                                ...  \n95               делать еще ╰(‵□′)╯ (мне понравилось)  \n96                                            спасибо  \n97  в севгу прошел круглый стол по случаю дня соли...  \n98                                       бро,моя тоже  \n99                       а что ты так перепугался то?  \n\n[100 rows x 4 columns]",
      "text/html": "<div>\n<style scoped>\n    .dataframe tbody tr th:only-of-type {\n        vertical-align: middle;\n    }\n\n    .dataframe tbody tr th {\n        vertical-align: top;\n    }\n\n    .dataframe thead th {\n        text-align: right;\n    }\n</style>\n<table border=\"1\" class=\"dataframe\">\n  <thead>\n    <tr style=\"text-align: right;\">\n      <th></th>\n      <th>old_idx</th>\n      <th>text</th>\n      <th>label</th>\n      <th>text_clean</th>\n    </tr>\n  </thead>\n  <tbody>\n    <tr>\n      <th>0</th>\n      <td>1</td>\n      <td>велл они  всё равно что мусор так что ничего с...</td>\n      <td>negative</td>\n      <td>велл они всё равно что мусор так что ничего ст...</td>\n    </tr>\n    <tr>\n      <th>1</th>\n      <td>2</td>\n      <td>\"трезвая жизнь какая-то такая стрёмная\"\\r\\n(с)...</td>\n      <td>negative</td>\n      <td>\"трезвая жизнь какая-то такая стрёмная\" (с) ар...</td>\n    </tr>\n    <tr>\n      <th>2</th>\n      <td>3</td>\n      <td>Ой какие неожиданные результаты 🤭 https://t.co...</td>\n      <td>neutral</td>\n      <td>ой какие неожиданные результаты</td>\n    </tr>\n    <tr>\n      <th>3</th>\n      <td>4</td>\n      <td>@Shvonder_chief @dimsmirnov175 На заборе тоже ...</td>\n      <td>neutral</td>\n      <td>на заборе тоже написано,а там другое.о сборе д...</td>\n    </tr>\n    <tr>\n      <th>4</th>\n      <td>5</td>\n      <td>@idkwhht мы тоже мебельная компания уджина😳😳😳</td>\n      <td>neutral</td>\n      <td>мы тоже мебельная компания уджина</td>\n    </tr>\n    <tr>\n      <th>...</th>\n      <td>...</td>\n      <td>...</td>\n      <td>...</td>\n      <td>...</td>\n    </tr>\n    <tr>\n      <th>95</th>\n      <td>110</td>\n      <td>@snakey_ssnake Делать еще ╰(‵□′)╯ (мне понрави...</td>\n      <td>positive</td>\n      <td>делать еще ╰(‵□′)╯ (мне понравилось)</td>\n    </tr>\n    <tr>\n      <th>96</th>\n      <td>112</td>\n      <td>@cerealporridge 😭😭😭😭♥️♥️♥️♥️ спасибо 😭♥️♥️♥️♥️</td>\n      <td>speech</td>\n      <td>спасибо</td>\n    </tr>\n    <tr>\n      <th>97</th>\n      <td>114</td>\n      <td>В СевГУ прошел круглый стол по случаю Дня соли...</td>\n      <td>neutral</td>\n      <td>в севгу прошел круглый стол по случаю дня соли...</td>\n    </tr>\n    <tr>\n      <th>98</th>\n      <td>115</td>\n      <td>@great_knee Бро,моя тоже</td>\n      <td>neutral</td>\n      <td>бро,моя тоже</td>\n    </tr>\n    <tr>\n      <th>99</th>\n      <td>116</td>\n      <td>@GGuchenko @Ares29014619 @arlig23 @Stepan05244...</td>\n      <td>neutral</td>\n      <td>а что ты так перепугался то?</td>\n    </tr>\n  </tbody>\n</table>\n<p>100 rows × 4 columns</p>\n</div>"
     },
     "execution_count": 7,
     "metadata": {},
     "output_type": "execute_result"
    }
   ],
   "source": [
    "twitter_cut.head(100)"
   ],
   "metadata": {
    "collapsed": false
   }
  },
  {
   "cell_type": "code",
   "execution_count": 8,
   "outputs": [
    {
     "data": {
      "text/plain": "       old_idx                                               text     label  \\\n0            1  велл они  всё равно что мусор так что ничего с...  negative   \n1            2  \"трезвая жизнь какая-то такая стрёмная\"\\r\\n(с)...  negative   \n2            3  Ой какие неожиданные результаты 🤭 https://t.co...   neutral   \n3            4  @Shvonder_chief @dimsmirnov175 На заборе тоже ...   neutral   \n4            5      @idkwhht мы тоже мебельная компания уджина😳😳😳   neutral   \n...        ...                                                ...       ...   \n11544    13386  Это просто промокод и он одноразовый! https://...   neutral   \n11545    13387                 все пора спать пиздец словила шизу  negative   \n11546    13388  такими темпами я создам новую секту или органи...   neutral   \n11547    13389  Ты смотрела аниме, завернувшись в одеяло ,пока...   neutral   \n11548    13390                         @AlyonaPikachu Пиздануться  negative   \n\n                                              text_clean  num_label  \n0      велл они всё равно что мусор так что ничего ст...          0  \n1      \"трезвая жизнь какая-то такая стрёмная\" (с) ар...          0  \n2                        ой какие неожиданные результаты          1  \n3      на заборе тоже написано,а там другое.о сборе д...          1  \n4                      мы тоже мебельная компания уджина          1  \n...                                                  ...        ...  \n11544              это просто промокод и он одноразовый!          1  \n11545                 все пора спать пиздец словила шизу          0  \n11546  такими темпами я создам новую секту или органи...          1  \n11547  ты смотрела аниме, завернувшись в одеяло ,пока...          1  \n11548                                        пиздануться          0  \n\n[11549 rows x 5 columns]",
      "text/html": "<div>\n<style scoped>\n    .dataframe tbody tr th:only-of-type {\n        vertical-align: middle;\n    }\n\n    .dataframe tbody tr th {\n        vertical-align: top;\n    }\n\n    .dataframe thead th {\n        text-align: right;\n    }\n</style>\n<table border=\"1\" class=\"dataframe\">\n  <thead>\n    <tr style=\"text-align: right;\">\n      <th></th>\n      <th>old_idx</th>\n      <th>text</th>\n      <th>label</th>\n      <th>text_clean</th>\n      <th>num_label</th>\n    </tr>\n  </thead>\n  <tbody>\n    <tr>\n      <th>0</th>\n      <td>1</td>\n      <td>велл они  всё равно что мусор так что ничего с...</td>\n      <td>negative</td>\n      <td>велл они всё равно что мусор так что ничего ст...</td>\n      <td>0</td>\n    </tr>\n    <tr>\n      <th>1</th>\n      <td>2</td>\n      <td>\"трезвая жизнь какая-то такая стрёмная\"\\r\\n(с)...</td>\n      <td>negative</td>\n      <td>\"трезвая жизнь какая-то такая стрёмная\" (с) ар...</td>\n      <td>0</td>\n    </tr>\n    <tr>\n      <th>2</th>\n      <td>3</td>\n      <td>Ой какие неожиданные результаты 🤭 https://t.co...</td>\n      <td>neutral</td>\n      <td>ой какие неожиданные результаты</td>\n      <td>1</td>\n    </tr>\n    <tr>\n      <th>3</th>\n      <td>4</td>\n      <td>@Shvonder_chief @dimsmirnov175 На заборе тоже ...</td>\n      <td>neutral</td>\n      <td>на заборе тоже написано,а там другое.о сборе д...</td>\n      <td>1</td>\n    </tr>\n    <tr>\n      <th>4</th>\n      <td>5</td>\n      <td>@idkwhht мы тоже мебельная компания уджина😳😳😳</td>\n      <td>neutral</td>\n      <td>мы тоже мебельная компания уджина</td>\n      <td>1</td>\n    </tr>\n    <tr>\n      <th>...</th>\n      <td>...</td>\n      <td>...</td>\n      <td>...</td>\n      <td>...</td>\n      <td>...</td>\n    </tr>\n    <tr>\n      <th>11544</th>\n      <td>13386</td>\n      <td>Это просто промокод и он одноразовый! https://...</td>\n      <td>neutral</td>\n      <td>это просто промокод и он одноразовый!</td>\n      <td>1</td>\n    </tr>\n    <tr>\n      <th>11545</th>\n      <td>13387</td>\n      <td>все пора спать пиздец словила шизу</td>\n      <td>negative</td>\n      <td>все пора спать пиздец словила шизу</td>\n      <td>0</td>\n    </tr>\n    <tr>\n      <th>11546</th>\n      <td>13388</td>\n      <td>такими темпами я создам новую секту или органи...</td>\n      <td>neutral</td>\n      <td>такими темпами я создам новую секту или органи...</td>\n      <td>1</td>\n    </tr>\n    <tr>\n      <th>11547</th>\n      <td>13389</td>\n      <td>Ты смотрела аниме, завернувшись в одеяло ,пока...</td>\n      <td>neutral</td>\n      <td>ты смотрела аниме, завернувшись в одеяло ,пока...</td>\n      <td>1</td>\n    </tr>\n    <tr>\n      <th>11548</th>\n      <td>13390</td>\n      <td>@AlyonaPikachu Пиздануться</td>\n      <td>negative</td>\n      <td>пиздануться</td>\n      <td>0</td>\n    </tr>\n  </tbody>\n</table>\n<p>11549 rows × 5 columns</p>\n</div>"
     },
     "execution_count": 8,
     "metadata": {},
     "output_type": "execute_result"
    }
   ],
   "source": [
    "def label_to_int(label):\n",
    "    if label == 'negative':\n",
    "        return 0\n",
    "    elif label == 'neutral' or label == 'speech':\n",
    "        return 1\n",
    "    elif label == 'positive':\n",
    "        return 2\n",
    "\n",
    "\n",
    "twitter_cut[\"num_label\"] = twitter_cut[\"label\"].apply(label_to_int)\n",
    "\n",
    "twitter_cut"
   ],
   "metadata": {
    "collapsed": false
   }
  },
  {
   "cell_type": "code",
   "execution_count": 9,
   "outputs": [
    {
     "data": {
      "text/plain": "[Text(0, 0, 'neg'), Text(1, 0, 'neu'), Text(2, 0, 'pos')]"
     },
     "execution_count": 9,
     "metadata": {},
     "output_type": "execute_result"
    },
    {
     "data": {
      "text/plain": "<Figure size 640x480 with 1 Axes>",
      "image/png": "[encoded data removed]"
     },
     "metadata": {},
     "output_type": "display_data"
    }
   ],
   "source": [
    "ax = sns.countplot(data=twitter_cut, x=\"num_label\")\n",
    "ax.set_xticklabels([\"neg\", \"neu\", \"pos\"])"
   ],
   "metadata": {
    "collapsed": false
   }
  },
  {
   "cell_type": "markdown",
   "source": [
    "Из-за того, что speech ушел в neutral, то у нас возникает дисбаланс (возможно с этим стоило что-то сделать)"
   ],
   "metadata": {
    "collapsed": false
   }
  },
  {
   "cell_type": "markdown",
   "source": [
    "## Высокоуровневая предобработка"
   ],
   "metadata": {
    "collapsed": false
   }
  },
  {
   "cell_type": "markdown",
   "source": [
    "Сначала попробуем дистиллированную модель https://habr.com/ru/articles/562064/"
   ],
   "metadata": {
    "collapsed": false
   }
  },
  {
   "cell_type": "code",
   "execution_count": 10,
   "outputs": [],
   "source": [
    "tokenizer = BertTokenizer.from_pretrained(pretrained_model_name_or_path=\"cointegrated/rubert-tiny\")"
   ],
   "metadata": {
    "collapsed": false
   }
  },
  {
   "cell_type": "code",
   "execution_count": 11,
   "outputs": [],
   "source": [
    "def tokenize(text):\n",
    "    encoding = tokenizer.encode_plus(\n",
    "        text,\n",
    "        add_special_tokens=True,\n",
    "        max_length=64,\n",
    "        truncation=True,\n",
    "        padding='max_length',\n",
    "        return_attention_mask=True,\n",
    "        return_tensors='pt'\n",
    "    )\n",
    "    return pd.Series([encoding[\"input_ids\"], encoding[\"attention_mask\"]])"
   ],
   "metadata": {
    "collapsed": false
   }
  },
  {
   "cell_type": "markdown",
   "source": [
    "Вроде как можно написать кастомный класс датасета, но вроде как можно и не писать, так и не понял пока"
   ],
   "metadata": {
    "collapsed": false
   }
  },
  {
   "cell_type": "code",
   "execution_count": 12,
   "outputs": [],
   "source": [
    "twitter_cut[[\"input_ids\", \"attention_mask\"]] = twitter_cut[\"text_clean\"].apply(tokenize)"
   ],
   "metadata": {
    "collapsed": false
   }
  },
  {
   "cell_type": "markdown",
   "source": [
    "Разделяем на трейн/тест"
   ],
   "metadata": {
    "collapsed": false
   }
  },
  {
   "cell_type": "code",
   "execution_count": 18,
   "outputs": [],
   "source": [
    "train_df, test_df = train_test_split(\n",
    "    twitter_cut,\n",
    "    test_size=SPLIT_SIZE,\n",
    "    shuffle=True,\n",
    "    stratify=twitter_cut['num_label'].values,\n",
    "    random_state=SEED\n",
    ")\n",
    "\n",
    "train_dataset = TensorDataset(torch.cat(list(train_df[\"input_ids\"].values), dim=0),\n",
    "                              torch.cat(list(train_df[\"attention_mask\"].values), dim=0),\n",
    "                              torch.tensor(train_df[\"num_label\"].values))\n",
    "\n",
    "test_dataset = TensorDataset(torch.cat(list(test_df[\"input_ids\"].values), dim=0),\n",
    "                             torch.cat(list(test_df[\"attention_mask\"].values), dim=0),\n",
    "                             torch.tensor(test_df[\"num_label\"].values))\n",
    "\n",
    "# Prepare DataLoader\n",
    "train_dataloader = DataLoader(\n",
    "    train_dataset,\n",
    "    batch_size=BATCH_SIZE,\n",
    "    num_workers=NUM_WORKERS,\n",
    "    persistent_workers=True\n",
    ")\n",
    "\n",
    "test_dataloader = DataLoader(\n",
    "    test_dataset,\n",
    "    batch_size=BATCH_SIZE,\n",
    "    num_workers=NUM_WORKERS,\n",
    "    persistent_workers=True\n",
    ")"
   ],
   "metadata": {
    "collapsed": false
   }
  },
  {
   "cell_type": "markdown",
   "source": [
    "## Кидаем все это в модель"
   ],
   "metadata": {
    "collapsed": false
   }
  },
  {
   "cell_type": "code",
   "execution_count": 19,
   "outputs": [],
   "source": [],
   "metadata": {
    "collapsed": false
   }
  },
  {
   "cell_type": "code",
   "execution_count": 20,
   "outputs": [
    {
     "name": "stderr",
     "output_type": "stream",
     "text": [
      "Some weights of the model checkpoint at cointegrated/rubert-tiny were not used when initializing BertForSequenceClassification: ['cls.predictions.decoder.bias', 'cls.predictions.transform.LayerNorm.bias', 'cls.predictions.bias', 'cls.seq_relationship.bias', 'cls.predictions.transform.dense.weight', 'cls.seq_relationship.weight', 'cls.predictions.transform.LayerNorm.weight', 'cls.predictions.transform.dense.bias', 'cls.predictions.decoder.weight']\n",
      "- This IS expected if you are initializing BertForSequenceClassification from the checkpoint of a model trained on another task or with another architecture (e.g. initializing a BertForSequenceClassification model from a BertForPreTraining model).\n",
      "- This IS NOT expected if you are initializing BertForSequenceClassification from the checkpoint of a model that you expect to be exactly identical (initializing a BertForSequenceClassification model from a BertForSequenceClassification model).\n",
      "Some weights of BertForSequenceClassification were not initialized from the model checkpoint at cointegrated/rubert-tiny and are newly initialized: ['classifier.weight', 'classifier.bias']\n",
      "You should probably TRAIN this model on a down-stream task to be able to use it for predictions and inference.\n"
     ]
    }
   ],
   "source": [
    "\n",
    "\n",
    "# Заметка для себя - параметры тут https://huggingface.co/transformers/v2.9.1/main_classes/configuration.html\n",
    "\n",
    "MODEL_PATH = Path(\"models\")\n",
    "MODEL_PATH.mkdir(parents=True,\n",
    "                 exist_ok=True)\n",
    "\n",
    "MODEL_NAME = \"rubert_tiny.pth\"\n",
    "MODEL_SAVE_PATH = MODEL_PATH / MODEL_NAME\n",
    "\n",
    "RES_PATH = Path(\"model_res\")\n",
    "RES_PATH.mkdir(parents=True,\n",
    "               exist_ok=True)\n",
    "RES_NAME = \"rubert_tiny.pickle\"\n",
    "RES_SAVE_PATH = RES_PATH / RES_NAME\n",
    "\n",
    "\n",
    "rubert_tiny = BertForSequenceClassification.from_pretrained(\n",
    "    pretrained_model_name_or_path=\"cointegrated/rubert-tiny\",\n",
    "    num_labels = 3\n",
    ").to(device)\n",
    "\n",
    "rubert_tiny.name = \"rubert_tiny\"\n",
    "\n",
    "loss_fn = torch.nn.CrossEntropyLoss().to(device)\n",
    "\n",
    "optimizer = torch.optim.AdamW(\n",
    "    rubert_tiny.parameters(),\n",
    "    lr = 8e-5,\n",
    "    eps = 1e-08\n",
    ")\n",
    "\n",
    "f1 = torchmetrics.F1Score(\n",
    "    task=\"multiclass\",\n",
    "    num_classes=3,\n",
    "    device=device\n",
    ").to(device)\n",
    "\n",
    "rubert_tiny_results = None\n",
    "\n",
    "if os.path.exists(RES_SAVE_PATH) and os.path.exists(MODEL_SAVE_PATH):\n",
    "    print(\"Loading existing model\")\n",
    "    rubert_tiny.load_state_dict(torch.load(f=MODEL_SAVE_PATH))\n",
    "    rubert_tiny_results = pd.read_pickle(RES_SAVE_PATH)\n",
    "else:\n",
    "    rubert_tiny_results = helper.model_trainer(\n",
    "        model=rubert_tiny,\n",
    "        epochs=15,\n",
    "        test_dataloader=test_dataloader,\n",
    "        train_dataloader=train_dataloader,\n",
    "        loss_function=loss_fn,\n",
    "        optimizer=optimizer,\n",
    "        eval_function=f1,\n",
    "        device=device,\n",
    "        transformer=True\n",
    "        # scheduler=torch.optim.lr_scheduler.ExponentialLR(\n",
    "        #     optimizer=optimizer,\n",
    "        #     gamma=0.75,\n",
    "        #     verbose=True\n",
    "        # ),\n",
    "    )\n",
    "    print(f\"Saving model to: {MODEL_SAVE_PATH}\")\n",
    "    torch.save(obj=rubert_tiny.state_dict(),\n",
    "               f=MODEL_SAVE_PATH)\n",
    "    rubert_tiny_results = pd.DataFrame([rubert_tiny_results])\n",
    "    rubert_tiny_results.to_pickle(RES_SAVE_PATH)\n",
    "\n"
   ],
   "metadata": {
    "collapsed": false
   }
  },
  {
   "cell_type": "markdown",
   "source": [
    "Как можно заметить - самому ни слои замораживать, ни добавлять слои не пришлось, на выходе 3 фичи\n",
    "(что конечно с условием задачи не вписывается, поэтому далее буду на голом берте морозить слои)"
   ],
   "metadata": {
    "collapsed": false
   }
  },
  {
   "cell_type": "markdown",
   "source": [],
   "metadata": {
    "collapsed": false
   }
  },
  {
   "cell_type": "code",
   "execution_count": 17,
   "outputs": [
    {
     "ename": "TypeError",
     "evalue": "model_trainer_with_saving() missing 9 required positional arguments: 'model', 'epochs', 'train_dataloader', 'test_dataloader', 'loss_function', 'optimizer', 'eval_function', 'device', and 'file_name'",
     "output_type": "error",
     "traceback": [
      "\u001B[1;31m---------------------------------------------------------------------------\u001B[0m",
      "\u001B[1;31mTypeError\u001B[0m                                 Traceback (most recent call last)",
      "Cell \u001B[1;32mIn [17], line 1\u001B[0m\n\u001B[1;32m----> 1\u001B[0m helper\u001B[38;5;241m.\u001B[39mmodel_trainer_with_saving()\n",
      "\u001B[1;31mTypeError\u001B[0m: model_trainer_with_saving() missing 9 required positional arguments: 'model', 'epochs', 'train_dataloader', 'test_dataloader', 'loss_function', 'optimizer', 'eval_function', 'device', and 'file_name'"
     ]
    }
   ],
   "source": [
    "class_names = [\"negative\", \"neutral\", \"positive\"]\n",
    "\n",
    "helper.model_eval_report(\n",
    "    model=rubert_tiny,\n",
    "    test_dataloader=test_dataloader,\n",
    "    test_dataset=test_dataset,\n",
    "    loss_function=loss_fn,\n",
    "    eval_function=f1,\n",
    "    device=device,\n",
    "    transformer=True,\n",
    "    class_names=class_names\n",
    ")\n",
    "\n"
   ],
   "metadata": {
    "collapsed": false
   }
  },
  {
   "cell_type": "code",
   "execution_count": 31,
   "outputs": [],
   "source": [
    "plt.rcParams['figure.figsize'] = [6, 5]\n",
    "plt.plot(rubert_tiny_results.history_test_loss[0], label='test_loss')\n",
    "plt.plot(rubert_tiny_results.history_train_loss[0], label='train_loss')\n",
    "plt.legend()"
   ],
   "metadata": {
    "collapsed": false
   }
  },
  {
   "cell_type": "code",
   "execution_count": 32,
   "outputs": [
    {
     "data": {
      "text/plain": "Train batches:   0%|          | 0/109 [00:00<?, ?it/s]",
      "application/vnd.jupyter.widget-view+json": {
       "version_major": 2,
       "version_minor": 0,
       "model_id": "4fe9f504b7e6440ca04560c6c14946dd"
      }
     },
     "metadata": {},
     "output_type": "display_data"
    },
    {
     "name": "stdout",
     "output_type": "stream",
     "text": [
      "              precision    recall  f1-score   support\n",
      "\n",
      "    negative       0.24      0.23      0.23       990\n",
      "     neutral       0.62      0.31      0.41      1751\n",
      "    positive       0.22      0.50      0.30       724\n",
      "\n",
      "    accuracy                           0.33      3465\n",
      "   macro avg       0.36      0.34      0.32      3465\n",
      "weighted avg       0.43      0.33      0.34      3465\n",
      "\n"
     ]
    },
    {
     "name": "stderr",
     "output_type": "stream",
     "text": [
      "C:\\Users\\anast3t\\Desktop\\all\\coding\\neural-networks\\Task2\\..\\helper.py:86: UserWarning: To copy construct from a tensor, it is recommended to use sourceTensor.clone().detach() or sourceTensor.clone().detach().requires_grad_(True), rather than torch.tensor(sourceTensor).\n",
      "  confmat_tensor = confmat(preds=preds,\n"
     ]
    },
    {
     "data": {
      "text/plain": "<Figure size 700x500 with 1 Axes>",
      "image/png": "[encoded data removed]"
     },
     "metadata": {},
     "output_type": "display_data"
    }
   ],
   "source": [
    "plt.rcParams['figure.figsize'] = [6, 5]\n",
    "plt.plot(rubert_tiny_results.history_test_eval[0], label='test_eval')\n",
    "plt.plot(rubert_tiny_results.history_train_eval[0], label='train_eval')\n",
    "plt.legend()"
   ],
   "metadata": {
    "collapsed": false
   }
  },
  {
   "cell_type": "markdown",
   "source": [
    "Наблюдаем очевиднейший оверфит?...."
   ],
   "metadata": {
    "collapsed": false
   }
  },
  {
   "cell_type": "code",
   "execution_count": 18,
   "outputs": [],
   "source": [
    "def predict(text, model=rubert_tiny):\n",
    "    model.eval()\n",
    "    with torch.inference_mode():\n",
    "        text = clean_text(text)\n",
    "        print(text)\n",
    "        tokenized = tokenize(text)\n",
    "        tokenized[0] = tokenized[0].to(device)\n",
    "        tokenized[1] = tokenized[1].to(device)\n",
    "        evaluated = model(tokenized[0], token_type_ids= None, attention_mask=tokenized[1])\n",
    "        print(class_names[torch.argmax(evaluated.logits, dim = -1).detach().cpu().numpy()[0]])"
   ],
   "metadata": {
    "collapsed": false
   }
  },
  {
   "cell_type": "code",
   "execution_count": 19,
   "outputs": [
    {
     "name": "stdout",
     "output_type": "stream",
     "text": [
      "\n",
      "neutral\n"
     ]
    }
   ],
   "source": [
    "predict(\"\")"
   ],
   "metadata": {
    "collapsed": false
   }
  },
  {
   "cell_type": "markdown",
   "source": [],
   "metadata": {
    "collapsed": false
   }
  }
 ],
 "metadata": {
  "kernelspec": {
   "display_name": "Python 3",
   "language": "python",
   "name": "python3"
  },
  "language_info": {
   "codemirror_mode": {
    "name": "ipython",
    "version": 2
   },
   "file_extension": ".py",
   "mimetype": "text/x-python",
   "name": "python",
   "nbconvert_exporter": "python",
   "pygments_lexer": "ipython2",
   "version": "2.7.6"
  }
 },
 "nbformat": 4,
 "nbformat_minor": 0
}
